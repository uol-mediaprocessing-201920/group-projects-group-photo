{
  "nbformat": 4,
  "nbformat_minor": 0,
  "metadata": {
    "colab": {
      "name": "prototype.ipynb",
      "provenance": [],
      "include_colab_link": true
    },
    "kernelspec": {
      "name": "python3",
      "display_name": "Python 3"
    }
  },
  "cells": [
    {
      "cell_type": "markdown",
      "metadata": {
        "id": "view-in-github",
        "colab_type": "text"
      },
      "source": [
        "<a href=\"https://colab.research.google.com/github/uol-mediaprocessing/group-projects-group-photo/blob/master/prototype.ipynb\" target=\"_parent\"><img src=\"https://colab.research.google.com/assets/colab-badge.svg\" alt=\"Open In Colab\"/></a>"
      ]
    },
    {
      "cell_type": "code",
      "metadata": {
        "id": "fkz5lwfrfStT",
        "colab_type": "code",
        "colab": {}
      },
      "source": [
        "# upload pictures\n",
        "!wget -q https://github.com/uol-mediaprocessing/group-projects-group-photo/raw/master/pictures/group_2/index.txt -O group_2.txt\n",
        "!mkdir group_2\n",
        "\n",
        "\n",
        "!xargs -i -a group_2.txt wget -q https://github.com/uol-mediaprocessing/group-projects-group-photo/raw/master/pictures/group_2/{} -O group_2/{}\n",
        "!ls -lah group_2\n",
        "\n",
        "path = './group_2'\n",
        "\n",
        "import os, sys\n",
        "\n",
        "files = os.listdir(path)\n",
        "files = list(map(lambda f: path + '/' + f, files))\n",
        "print(files)\n",
        "\n",
        "imgs = list(map(cv2.imread, files))"
      ],
      "execution_count": 0,
      "outputs": []
    },
    {
      "cell_type": "code",
      "metadata": {
        "id": "PTxi45Oqer3B",
        "colab_type": "code",
        "colab": {}
      },
      "source": [
        "import numpy\n",
        "import cv2\n",
        "import dlib\n",
        "from google.colab.patches import cv2_imshow\n",
        "\n",
        "class Person:\n",
        "  def __init__(self, id):\n",
        "    self.id = id\n",
        "    self.faces = []\n",
        "\n",
        "\tdef faceVectorMatches(self, vector):\n",
        "    return numpy.linalg.norm(self.id - vector) < 0.6\n",
        "\n",
        "class Face:\n",
        " \tdef __init__(self, picture_data, picture_index, landmarks):\n",
        "    self.picture_data = picture_data\n",
        "    self.picture_index = picture_index\n",
        "    self.landmarks = landmarks\n",
        "    self.score_orientation = 0 # TODO: define metric for orientation\n",
        "    self.score_eyes = None\n",
        "    self.score_mouth = None\n",
        "    self.score_all = None\n",
        "  \n",
        "  # sets and return score_all, parameters are for weighting the scores\n",
        "  def scoreAll(self, w1 = 3, w2 = 2, w3 = 1):\n",
        "    self.score_all = self.score_orientation * w1 + self.score_eyes * w2 + self.score_mouth * w3\n",
        "    return self.score_all\n",
        "\n",
        "# return the face given a picture and the coords of the face\n",
        "def extractFace(pic, coords):\n",
        "\treturn pic[coords.top():coords.bottom(), coords.left():coords:.right()]\n",
        "\n",
        "# filenames\n",
        "landmarks_filename = \"shape_predictor_68_face_landmarks.dat\"\n",
        "facerecognition_filename = \"dlib_face_recognition_resnet_model_v1.dat\"\n",
        "\n",
        "# TODO: fill pictures with filenames\n",
        "# upload pictures \n",
        "pictures = []\n",
        "cv_pictures = [cv2.imread(picture) for picture in pictures]\n",
        "dlib_pictures = [cv2.cvtColor(cv_img,cv2.color_BGR2RGB) for cv_img in cv_pictures]\n",
        "\n",
        "# init face detection and landmarks\n",
        "face_detector = dlib.get_frontal_face_detector()\n",
        "face_landmarks = dlib.shape_predictor(landmarks_filename)\n",
        "face_recognition = dlib.face_recognition_model_v1(facerecognition_filename)\n",
        "\n",
        "# list of every unique person\n",
        "persons = []\n",
        "\n",
        "# iterate each picture and search for faces\n",
        "for pic_idx, picture in enumerate(dlib_pictures):\n",
        "  # detect faces in the image\n",
        "  faces = detector(picture, 0)\n",
        "  \n",
        "  # TODO: evlt Schleife angucken, was genau ist d?\n",
        "  # d is the rectangle of the face\n",
        "  # get landmarks of each face\n",
        "  # get id for each face\n",
        "  for k,d in enumerate(faces):\n",
        "    landmarks = face_landmarks(picture,d)\n",
        "    face_id = face_recognition.compute_face_descriptor(picture,landmarks)\n",
        "    \n",
        "    # check if person is already in persons list\n",
        "    person = next(person for person in persons if person.faceVectorMatches(face_id), None)\n",
        "    if person is None:\n",
        "    \tperson = Person(face_id)\n",
        "      persons.append(person)\n",
        "      \n",
        "    face = Face(extractFace(picture, d), pic_idx, landmarks)\n",
        "    person.faces.append(face)\n",
        "      \n",
        "\n",
        "    \n",
        "\n"
      ],
      "execution_count": 0,
      "outputs": []
    }
  ]
}