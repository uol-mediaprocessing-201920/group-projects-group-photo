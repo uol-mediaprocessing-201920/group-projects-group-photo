{
  "nbformat": 4,
  "nbformat_minor": 0,
  "metadata": {
    "colab": {
      "name": "prototype.ipynb",
      "provenance": [],
      "include_colab_link": true
    },
    "kernelspec": {
      "name": "python3",
      "display_name": "Python 3"
    },
    "accelerator": "GPU"
  },
  "cells": [
    {
      "cell_type": "markdown",
      "metadata": {
        "id": "view-in-github",
        "colab_type": "text"
      },
      "source": [
        "<a href=\"https://colab.research.google.com/github/uol-mediaprocessing/group-projects-group-photo/blob/master/prototype.ipynb\" target=\"_parent\"><img src=\"https://colab.research.google.com/assets/colab-badge.svg\" alt=\"Open In Colab\"/></a>"
      ]
    },
    {
      "cell_type": "code",
      "metadata": {
        "id": "fkz5lwfrfStT",
        "colab_type": "code",
        "colab": {
          "base_uri": "https://localhost:8080/",
          "height": 339
        },
        "outputId": "feed371d-a19e-4645-9baa-c0605f4aa78e"
      },
      "source": [
        "import os, sys\n",
        "import numpy\n",
        "import cv2\n",
        "import dlib\n",
        "from google.colab.patches import cv2_imshow\n",
        "import scipy.spatial as spatial\n",
        "from scipy.spatial.distance import euclidean as euclid_distance\n",
        "\n",
        "# upload pictures\n",
        "!wget -q https://github.com/uol-mediaprocessing/group-projects-group-photo/raw/master/pictures/group_2/index.txt -O group_2.txt\n",
        "!mkdir group_2\n",
        "\n",
        "\n",
        "!xargs -i -a group_2.txt wget -q https://github.com/uol-mediaprocessing/group-projects-group-photo/raw/master/pictures/group_2/{} -O group_2/{}\n",
        "!ls -lah group_2\n",
        "\n",
        "path = './group_2'\n",
        "\n",
        "files = os.listdir(path)\n",
        "files = list(map(lambda f: path + '/' + f, files))\n",
        "print(files)\n",
        "\n",
        "imgs = list(map(cv2.imread, files))\n",
        "\n",
        "# get models\n",
        "!wget -q  https://github.com/uol-mediaprocessing/group-projects-group-photo/raw/master/shape_predictor_68_face_landmarks.dat.bz2 -O shape_predictor_68_face_landmarks.dat.bz2\n",
        "!bzip2 -d shape_predictor_68_face_landmarks.dat.bz2\n",
        "!wget -q https://github.com/uol-mediaprocessing/group-projects-group-photo/raw/master/dlib_face_recognition_resnet_model_v1.dat.bz2\n",
        "!bzip2 -d dlib_face_recognition_resnet_model_v1.dat.bz2"
      ],
      "execution_count": 5,
      "outputs": [
        {
          "output_type": "stream",
          "text": [
            "mkdir: cannot create directory ‘group_2’: File exists\n",
            "total 40M\n",
            "drwxr-xr-x 2 root root 4.0K Jan  3 13:20 .\n",
            "drwxr-xr-x 1 root root 4.0K Jan  3 13:21 ..\n",
            "-rw-r--r-- 1 root root 3.7M Jan  3 13:24 IMG_20191112_111241.jpg\n",
            "-rw-r--r-- 1 root root 3.6M Jan  3 13:24 IMG_20191112_111244.jpg\n",
            "-rw-r--r-- 1 root root 4.0M Jan  3 13:24 IMG_20191112_111256.jpg\n",
            "-rw-r--r-- 1 root root 3.9M Jan  3 13:24 IMG_20191112_111257.jpg\n",
            "-rw-r--r-- 1 root root 3.8M Jan  3 13:24 IMG_20191112_111300.jpg\n",
            "-rw-r--r-- 1 root root 4.2M Jan  3 13:24 IMG_20191112_111301.jpg\n",
            "-rw-r--r-- 1 root root 3.8M Jan  3 13:24 IMG_20191112_111313.jpg\n",
            "-rw-r--r-- 1 root root 3.3M Jan  3 13:24 IMG_20191112_111315.jpg\n",
            "-rw-r--r-- 1 root root 3.4M Jan  3 13:24 IMG_20191112_111327.jpg\n",
            "-rw-r--r-- 1 root root 3.5M Jan  3 13:24 IMG_20191112_111330.jpg\n",
            "-rw-r--r-- 1 root root 3.3M Jan  3 13:24 IMG_20191112_111332.jpg\n",
            "['./group_2/IMG_20191112_111332.jpg', './group_2/IMG_20191112_111300.jpg', './group_2/IMG_20191112_111241.jpg', './group_2/IMG_20191112_111301.jpg', './group_2/IMG_20191112_111315.jpg', './group_2/IMG_20191112_111257.jpg', './group_2/IMG_20191112_111330.jpg', './group_2/IMG_20191112_111313.jpg', './group_2/IMG_20191112_111256.jpg', './group_2/IMG_20191112_111244.jpg', './group_2/IMG_20191112_111327.jpg']\n",
            "bzip2: Output file shape_predictor_68_face_landmarks.dat already exists.\n",
            "bzip2: Output file dlib_face_recognition_resnet_model_v1.dat already exists.\n"
          ],
          "name": "stdout"
        }
      ]
    },
    {
      "cell_type": "code",
      "metadata": {
        "id": "PTxi45Oqer3B",
        "colab_type": "code",
        "colab": {
          "base_uri": "https://localhost:8080/",
          "height": 34
        },
        "outputId": "6e92de36-0a6d-4515-b9d7-60a4cbf7dd30"
      },
      "source": [
        "class Person:\n",
        "  def __init__(self, id):\n",
        "    self.id = id\n",
        "    self.faces = []\n",
        "\n",
        "  def faceVectorMatches(self, vector):\n",
        "    return euclid_distance(self.id,vector) < 0.6\n",
        "\n",
        "class Face:\n",
        "  def __init__(self, picture_data, picture_index, landmarks):\n",
        "    self.picture_data = picture_data\n",
        "    self.picture_index = picture_index\n",
        "    self.landmarks = landmarks\n",
        "    self.score_orientation = 0 # TODO: define metric for orientation\n",
        "    self.score_eyes = None\n",
        "    self.score_mouth = None\n",
        "    self.score_all = None\n",
        "\n",
        "# sets and return score_all, parameters are for weighting the scores\n",
        "def scoreAll(self, w1 = 3, w2 = 2, w3 = 1):\n",
        "  self.score_all = self.score_orientation * w1 + self.score_eyes * w2 + self.score_mouth * w3\n",
        "  return self.score_all\n",
        "\n",
        "# return the face given a picture and the coords of the face\n",
        "def extractFace(pic, coords):\n",
        "  return pic[coords.top():coords.bottom(), coords.left():coords.right()]\n",
        "\n",
        "# filenames\n",
        "landmarks_filename = \"shape_predictor_68_face_landmarks.dat\"\n",
        "facerecognition_filename = \"dlib_face_recognition_resnet_model_v1.dat\"\n",
        "\n",
        "# TODO: fill pictures with filenames\n",
        "# upload pictures \n",
        "cv_pictures = imgs\n",
        "dlib_pictures = [cv2.cvtColor(cv_img,cv2.COLOR_BGR2RGB) for cv_img in cv_pictures]\n",
        "\n",
        "# init face detection and landmarks\n",
        "face_detector = dlib.get_frontal_face_detector()\n",
        "face_landmarks = dlib.shape_predictor(landmarks_filename)\n",
        "face_recognition = dlib.face_recognition_model_v1(facerecognition_filename)\n",
        "\n",
        "# list of every unique person\n",
        "persons = []\n",
        "\n",
        "# iterate each picture and search for faces\n",
        "for pic_idx, picture in enumerate(dlib_pictures):\n",
        "  # detect faces in the image\n",
        "  faces = face_detector(picture, 0)\n",
        "\n",
        "  # TODO: evlt Schleife angucken, was genau ist d?\n",
        "  # d is the rectangle of the face\n",
        "  # get landmarks of each face\n",
        "  # get id for each face\n",
        "  for k,d in enumerate(faces):\n",
        "    landmarks = face_landmarks(picture,d)\n",
        "    face_id = face_recognition.compute_face_descriptor(picture,landmarks)\n",
        "\n",
        "    # check if person is already in persons list\n",
        "    person = next((person for person in persons if person.faceVectorMatches(face_id)), None)\n",
        "    if person is None:\n",
        "      person = Person(face_id)\n",
        "      persons.append(person)\n",
        "\n",
        "    face = Face(extractFace(picture, d), pic_idx, landmarks)\n",
        "    person.faces.append(face)\n",
        "        \n",
        "\n",
        "print(persons)\n",
        "\n"
      ],
      "execution_count": 9,
      "outputs": [
        {
          "output_type": "stream",
          "text": [
            "[<__main__.Person object at 0x7f8420073080>, <__main__.Person object at 0x7f84200730f0>, <__main__.Person object at 0x7f84200734e0>, <__main__.Person object at 0x7f84200732b0>]\n"
          ],
          "name": "stdout"
        }
      ]
    }
  ]
}