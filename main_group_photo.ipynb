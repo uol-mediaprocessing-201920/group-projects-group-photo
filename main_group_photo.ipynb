{
  "nbformat": 4,
  "nbformat_minor": 0,
  "metadata": {
    "colab": {
      "name": "main_group_photo",
      "provenance": [],
      "include_colab_link": true
    },
    "kernelspec": {
      "name": "python3",
      "display_name": "Python 3"
    }
  },
  "cells": [
    {
      "cell_type": "markdown",
      "metadata": {
        "id": "view-in-github",
        "colab_type": "text"
      },
      "source": [
        "<a href=\"https://colab.research.google.com/github/uol-mediaprocessing/group-projects-group-photo/blob/master/main_group_photo.ipynb\" target=\"_parent\"><img src=\"https://colab.research.google.com/assets/colab-badge.svg\" alt=\"Open In Colab\"/></a>"
      ]
    },
    {
      "cell_type": "markdown",
      "metadata": {
        "id": "Qi3zLdp31QEM",
        "colab_type": "text"
      },
      "source": [
        "Bild und Titel <br>\n",
        "main Methode erstellen<br>\n",
        "Recherche zum Thema<br>\n",
        "Ziele definieren:<br>\n",
        "Ziel des Projektes ist es mittels Einsatz von Software Gruppenfotos so zu bearbeiten, dass jeder auf diesem Foto mit geöffneten Augen zu Kamera schaut. Hierfür brauchen wir: <br>\n",
        "<ul>\n",
        "  <li> eine Gesichtserkennung\n",
        "  <li> erkennen ob jemand lächelt\n",
        "  <li> erkennen ob die Augen geöffnet sind\n",
        "  <li> Gesichter einem Kopf und Körper zuordnen\n",
        "  <li> Aus vielen Bildern die idealen Gesichter erkennen\n",
        "  <li> Mehrere Bilder zu einem zusammenführen\n",
        "  \n",
        "<ul>\n",
        "\n"
      ]
    }
  ]
}