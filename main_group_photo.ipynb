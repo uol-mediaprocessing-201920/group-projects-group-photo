{
  "nbformat": 4,
  "nbformat_minor": 0,
  "metadata": {
    "colab": {
      "name": "main_group_photo",
      "provenance": []
    },
    "kernelspec": {
      "name": "python3",
      "display_name": "Python 3"
    }
  },
  "cells": [
    {
      "cell_type": "markdown",
      "metadata": {
        "id": "Qi3zLdp31QEM",
        "colab_type": "text"
      },
      "source": [
        "# Gruppenphoto\n",
        "\n",
        "![eine Gruppe von Menschen](https://github.com/uol-mediaprocessing/notebooks/raw/master/pictures/image10.jpeg)\n",
        "\n",
        "## Ziele\n",
        "\n",
        "Ziel des Projektes ist es mittels Einsatz von Software Gruppenfotos so zu bearbeiten, dass jeder auf diesem Foto mit geöffneten Augen zur Kamera schaut. \n",
        "\n",
        "Hierfür muss die Software:\n",
        "\n",
        "* Gesichter erkennen\n",
        "* jedes Gesicht anhand einer Reihe fester Kriterien bewerten\n",
        "  * die Person lächelt\n",
        "  * die Augen sind geöffnet\n",
        "  * die Kamera wird angesehen\n",
        "  * das Gesicht ist möglichst wenig verdeckt\n",
        "  * ...\n",
        "* Gesichter einem Kopf und Körper zuordnen\n",
        "* Für jede abgebildete Person aus vielen Bildern das ideale auswählen\n",
        "* Mehrere Bilder zu einem zusammenführen\n",
        "  * Kleinere Bewegungen von Kamera oder Personen kompensieren um Artefakte zu vermeiden\n",
        "\n",
        "## ToDo\n",
        "\n",
        "* Recherche zum Thema\n",
        "* main Methode erstellen\n"
      ]
    }
  ]
}