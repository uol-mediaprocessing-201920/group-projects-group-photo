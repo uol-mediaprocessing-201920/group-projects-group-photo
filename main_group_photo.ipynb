{
  "nbformat": 4,
  "nbformat_minor": 0,
  "metadata": {
    "colab": {
      "name": "main_group_photo",
      "provenance": []
    },
    "kernelspec": {
      "name": "python3",
      "display_name": "Python 3"
    }
  },
  "cells": [
    {
      "cell_type": "markdown",
      "metadata": {
        "id": "Qi3zLdp31QEM",
        "colab_type": "text"
      },
      "source": [
        "# Group photo\n",
        "\n",
        "![A group of people standing and sitting around a dining table.](https://github.com/uol-mediaprocessing/notebooks/raw/master/pictures/image10.jpeg)\n",
        "\n",
        "## Objective\n",
        "\n",
        "Purpose of this project is to create software which merges photographs of groups to ensure as many subjects as possible look directly at the camera with open eyes and a smile.\n",
        "\n",
        "To achieve this the application has to:\n",
        "\n",
        "* recognize faces\n",
        "* evaluate faces according to a number of fixed criteria\n",
        "  * person is smiling\n",
        "  * eyes are open\n",
        "  * looking at the camera\n",
        "  * face is not obstructed\n",
        "  * ...\n",
        "* respect which face belongs to whose head and body\n",
        "* pick the optimal picture of each persons face from all sources\n",
        "* merge several pictures into one\n",
        "  * compensate for small movements of both people and the camera to avoid artifacts\n",
        "\n",
        "## ToDo\n",
        "\n",
        "* research the topic\n",
        "* create the program's entry point ```main()```\n"
      ]
    }
  ]
}